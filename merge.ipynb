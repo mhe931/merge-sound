{
 "cells": [
  {
   "cell_type": "code",
   "execution_count": null,
   "metadata": {},
   "outputs": [],
   "source": [
    "import os\n",
    "from pydub import AudioSegment\n",
    "from tqdm import tqdm\n",
    "from concurrent.futures import ThreadPoolExecutor\n",
    "\n",
    "# Function to sort files based on custom criteria\n",
    "def sort_files(files):\n",
    "    def extract_key(file_name):\n",
    "        parts = file_name.split(' - ')\n",
    "        if len(parts) == 2:\n",
    "            base, suffix = parts[0], parts[1]\n",
    "            try:\n",
    "                number, index = suffix.split('_')\n",
    "                number = int(number)\n",
    "                index = int(index.split('.')[0])\n",
    "                return base, number, index\n",
    "            except ValueError:\n",
    "                pass\n",
    "        return file_name, 0, 0\n",
    "\n",
    "    return sorted(files, key=extract_key)\n",
    "\n",
    "# Function to load an audio file and speed it up by 2x\n",
    "def load_and_speedup_audio(file_path):\n",
    "    audio = AudioSegment.from_mp3(file_path)\n",
    "    return audio.speedup(playback_speed=2.0)\n",
    "\n",
    "# Path to the folder containing the MP3 files\n",
    "folder_path = './s'\n",
    "\n",
    "# Get all MP3 files from the folder\n",
    "mp3_files = [f for f in os.listdir(folder_path) if f.endswith('.mp3')]\n",
    "\n",
    "# Sort files based on custom criteria\n",
    "sorted_files = sort_files(mp3_files)\n",
    "\n",
    "print(sorted_files)\n",
    "\n"
   ]
  },
  {
   "cell_type": "code",
   "execution_count": null,
   "metadata": {},
   "outputs": [],
   "source": [
    "\n",
    "# Function to load an audio file\n",
    "def load_audio(file_path):\n",
    "    return AudioSegment.from_mp3(file_path)\n",
    "\n",
    "# Function to process and concatenate audio files in chunks\n",
    "def process_in_chunks(files, chunk_size=10):\n",
    "    combined = AudioSegment.empty()\n",
    "    for i in tqdm(range(0, len(files), chunk_size), desc=\"Processing chunks\", unit=\"chunk\"):\n",
    "        chunk_files = files[i:i + chunk_size]\n",
    "        with ThreadPoolExecutor() as executor:\n",
    "            chunk_audios = list(executor.map(load_and_speedup_audio, chunk_files))\n",
    "        for audio in chunk_audios:\n",
    "            combined += audio\n",
    "    return combined\n",
    "\n",
    "# Create a list of file paths\n",
    "file_paths = [os.path.join(folder_path, mp3_file) for mp3_file in sorted_files]\n"
   ]
  },
  {
   "cell_type": "code",
   "execution_count": 3,
   "metadata": {},
   "outputs": [],
   "source": [
    "\n",
    "# Process files in chunks\n",
    "combined_audio = process_in_chunks(file_paths, chunk_size=10)\n"
   ]
  },
  {
   "cell_type": "code",
   "execution_count": null,
   "metadata": {},
   "outputs": [],
   "source": [
    "\n",
    "# Export the combined audio to a new MP3 file\n",
    "output_path = folder_path + '.mp3' \n",
    "combined_audio.export(output_path, format='mp3')\n",
    "\n",
    "print(f\"Combined MP3 file created at: {output_path}\")\n"
   ]
  },
  {
   "cell_type": "code",
   "execution_count": null,
   "metadata": {},
   "outputs": [],
   "source": []
  },
  {
   "cell_type": "code",
   "execution_count": null,
   "metadata": {},
   "outputs": [],
   "source": []
  },
  {
   "cell_type": "code",
   "execution_count": null,
   "metadata": {},
   "outputs": [],
   "source": [
    "import os\n",
    "from pydub import AudioSegment\n",
    "from tqdm import tqdm\n",
    "from concurrent.futures import ProcessPoolExecutor\n",
    "\n",
    "# Function to sort files based on custom criteria\n",
    "def sort_files(files):\n",
    "    def extract_key(file_name):\n",
    "        parts = file_name.split(' - ')\n",
    "        if len(parts) == 2:\n",
    "            base, suffix = parts[0], parts[1]\n",
    "            try:\n",
    "                number, index = suffix.split('_')\n",
    "                number = int(number)\n",
    "                index = int(index.split('.')[0])\n",
    "                return base, number, index\n",
    "            except ValueError:\n",
    "                pass\n",
    "        return file_name, 0, 0\n",
    "\n",
    "    return sorted(files, key=extract_key)\n",
    "\n",
    "# Path to the folder containing the MP3 files\n",
    "folder_path = './s'\n",
    "\n",
    "# Get all MP3 files from the folder\n",
    "mp3_files = [f for f in os.listdir(folder_path) if f.endswith('.mp3')]\n",
    "\n",
    "# Sort files based on custom criteria\n",
    "sorted_files = sort_files(mp3_files)\n",
    "\n",
    "print(sorted_files)\n",
    "\n",
    "# Function to load an audio file and speed it up by 2x\n",
    "def load_and_speedup_audio(file_path):\n",
    "    audio = AudioSegment.from_mp3(file_path)\n",
    "    return audio.speedup(playback_speed=2.0)\n",
    "\n",
    "# Function to process and concatenate audio files in chunks\n",
    "def process_in_chunks(files, chunk_size=10):\n",
    "    combined = AudioSegment.empty()\n",
    "    with ProcessPoolExecutor() as executor:\n",
    "        for i in tqdm(range(0, len(files), chunk_size), desc=\"Processing chunks\", unit=\"chunk\"):\n",
    "            chunk_files = files[i:i + chunk_size]\n",
    "            chunk_audios = list(executor.map(load_and_speedup_audio, chunk_files))\n",
    "            for audio in chunk_audios:\n",
    "                combined += audio\n",
    "    return combined\n",
    "\n",
    "# Function to export combined audio in chunks to avoid file size limits\n",
    "def export_in_chunks(audio, output_path, chunk_duration=5*60*60*1000): # 5 hours per chunk\n",
    "    chunk_count = len(audio) // chunk_duration + 1\n",
    "    for i in range(chunk_count):\n",
    "        start_time = i * chunk_duration\n",
    "        end_time = start_time + chunk_duration\n",
    "        chunk = audio[start_time:end_time]\n",
    "        chunk.export(f\"{output_path}_part{i+1}.mp3\", format=\"mp3\")\n"
   ]
  },
  {
   "cell_type": "code",
   "execution_count": null,
   "metadata": {},
   "outputs": [],
   "source": [
    "\n",
    "# Create a list of file paths\n",
    "file_paths = [os.path.join(folder_path, mp3_file) for mp3_file in sorted_files]\n",
    "\n",
    "# Process files in chunks\n",
    "combined_audio = process_in_chunks(file_paths, chunk_size=10)\n"
   ]
  },
  {
   "cell_type": "code",
   "execution_count": null,
   "metadata": {},
   "outputs": [],
   "source": [
    "\n",
    "# Export the combined audio in smaller chunks to avoid size limits\n",
    "output_path = 'combined_audio'\n",
    "export_in_chunks(combined_audio, output_path)\n",
    "\n",
    "print(f\"Combined and sped-up MP3 file created in chunks with base name: {output_path}\")\n"
   ]
  },
  {
   "cell_type": "code",
   "execution_count": null,
   "metadata": {},
   "outputs": [],
   "source": []
  },
  {
   "cell_type": "code",
   "execution_count": null,
   "metadata": {},
   "outputs": [],
   "source": []
  },
  {
   "cell_type": "code",
   "execution_count": null,
   "metadata": {},
   "outputs": [],
   "source": []
  },
  {
   "cell_type": "code",
   "execution_count": null,
   "metadata": {},
   "outputs": [],
   "source": []
  }
 ],
 "metadata": {
  "kernelspec": {
   "display_name": ".venv",
   "language": "python",
   "name": "python3"
  },
  "language_info": {
   "codemirror_mode": {
    "name": "ipython",
    "version": 3
   },
   "file_extension": ".py",
   "mimetype": "text/x-python",
   "name": "python",
   "nbconvert_exporter": "python",
   "pygments_lexer": "ipython3",
   "version": "3.10.12"
  }
 },
 "nbformat": 4,
 "nbformat_minor": 2
}
